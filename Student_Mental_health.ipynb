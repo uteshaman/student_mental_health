{
 "cells": [
  {
   "cell_type": "code",
   "execution_count": null,
   "id": "0a22bce3-b792-41e7-9925-6ce191832e57",
   "metadata": {},
   "outputs": [],
   "source": [
    "Student Mental Health"
   ]
  },
  {
   "cell_type": "markdown",
   "id": "dd8940e2-9957-4893-99dd-6d3342dc75ec",
   "metadata": {},
   "source": [
    "Цель: Проанализировать психологическое состояние студентов на основе данных об их возрасте, учебной нагрузке, академической успеваемости и наличия депрессии, тревожности и панических атак."
   ]
  },
  {
   "cell_type": "code",
   "execution_count": 2,
   "id": "7f8f2e26-428e-438b-9fe9-4b904a3d8b95",
   "metadata": {},
   "outputs": [],
   "source": [
    "import pandas as pd\n",
    "import numpy as np\n",
    "import matplotlib.pyplot as plt\n",
    "import seaborn as sns"
   ]
  },
  {
   "cell_type": "code",
   "execution_count": 3,
   "id": "93c0ea3a-2b07-4200-83bd-bb074a769dfb",
   "metadata": {},
   "outputs": [
    {
     "data": {
      "text/html": [
       "<div>\n",
       "<style scoped>\n",
       "    .dataframe tbody tr th:only-of-type {\n",
       "        vertical-align: middle;\n",
       "    }\n",
       "\n",
       "    .dataframe tbody tr th {\n",
       "        vertical-align: top;\n",
       "    }\n",
       "\n",
       "    .dataframe thead th {\n",
       "        text-align: right;\n",
       "    }\n",
       "</style>\n",
       "<table border=\"1\" class=\"dataframe\">\n",
       "  <thead>\n",
       "    <tr style=\"text-align: right;\">\n",
       "      <th></th>\n",
       "      <th>Timestamp</th>\n",
       "      <th>Choose your gender</th>\n",
       "      <th>Age</th>\n",
       "      <th>What is your course?</th>\n",
       "      <th>Your current year of Study</th>\n",
       "      <th>What is your CGPA?</th>\n",
       "      <th>Marital status</th>\n",
       "      <th>Do you have Depression?</th>\n",
       "      <th>Do you have Anxiety?</th>\n",
       "      <th>Do you have Panic attack?</th>\n",
       "      <th>Did you seek any specialist for a treatment?</th>\n",
       "    </tr>\n",
       "  </thead>\n",
       "  <tbody>\n",
       "    <tr>\n",
       "      <th>0</th>\n",
       "      <td>8/7/2020 12:02</td>\n",
       "      <td>Female</td>\n",
       "      <td>18.0</td>\n",
       "      <td>Engineering</td>\n",
       "      <td>year 1</td>\n",
       "      <td>3.00 - 3.49</td>\n",
       "      <td>No</td>\n",
       "      <td>Yes</td>\n",
       "      <td>No</td>\n",
       "      <td>Yes</td>\n",
       "      <td>No</td>\n",
       "    </tr>\n",
       "    <tr>\n",
       "      <th>1</th>\n",
       "      <td>8/7/2020 12:04</td>\n",
       "      <td>Male</td>\n",
       "      <td>21.0</td>\n",
       "      <td>Islamic education</td>\n",
       "      <td>year 2</td>\n",
       "      <td>3.00 - 3.49</td>\n",
       "      <td>No</td>\n",
       "      <td>No</td>\n",
       "      <td>Yes</td>\n",
       "      <td>No</td>\n",
       "      <td>No</td>\n",
       "    </tr>\n",
       "    <tr>\n",
       "      <th>2</th>\n",
       "      <td>8/7/2020 12:05</td>\n",
       "      <td>Male</td>\n",
       "      <td>19.0</td>\n",
       "      <td>BIT</td>\n",
       "      <td>Year 1</td>\n",
       "      <td>3.00 - 3.49</td>\n",
       "      <td>No</td>\n",
       "      <td>Yes</td>\n",
       "      <td>Yes</td>\n",
       "      <td>Yes</td>\n",
       "      <td>No</td>\n",
       "    </tr>\n",
       "    <tr>\n",
       "      <th>3</th>\n",
       "      <td>8/7/2020 12:06</td>\n",
       "      <td>Female</td>\n",
       "      <td>22.0</td>\n",
       "      <td>Laws</td>\n",
       "      <td>year 3</td>\n",
       "      <td>3.00 - 3.49</td>\n",
       "      <td>Yes</td>\n",
       "      <td>Yes</td>\n",
       "      <td>No</td>\n",
       "      <td>No</td>\n",
       "      <td>No</td>\n",
       "    </tr>\n",
       "    <tr>\n",
       "      <th>4</th>\n",
       "      <td>8/7/2020 12:13</td>\n",
       "      <td>Male</td>\n",
       "      <td>23.0</td>\n",
       "      <td>Mathemathics</td>\n",
       "      <td>year 4</td>\n",
       "      <td>3.00 - 3.49</td>\n",
       "      <td>No</td>\n",
       "      <td>No</td>\n",
       "      <td>No</td>\n",
       "      <td>No</td>\n",
       "      <td>No</td>\n",
       "    </tr>\n",
       "  </tbody>\n",
       "</table>\n",
       "</div>"
      ],
      "text/plain": [
       "        Timestamp Choose your gender   Age What is your course?  \\\n",
       "0  8/7/2020 12:02             Female  18.0          Engineering   \n",
       "1  8/7/2020 12:04               Male  21.0    Islamic education   \n",
       "2  8/7/2020 12:05               Male  19.0                  BIT   \n",
       "3  8/7/2020 12:06             Female  22.0                 Laws   \n",
       "4  8/7/2020 12:13               Male  23.0         Mathemathics   \n",
       "\n",
       "  Your current year of Study What is your CGPA? Marital status  \\\n",
       "0                     year 1        3.00 - 3.49             No   \n",
       "1                     year 2        3.00 - 3.49             No   \n",
       "2                     Year 1        3.00 - 3.49             No   \n",
       "3                     year 3        3.00 - 3.49            Yes   \n",
       "4                     year 4        3.00 - 3.49             No   \n",
       "\n",
       "  Do you have Depression? Do you have Anxiety? Do you have Panic attack?  \\\n",
       "0                     Yes                   No                       Yes   \n",
       "1                      No                  Yes                        No   \n",
       "2                     Yes                  Yes                       Yes   \n",
       "3                     Yes                   No                        No   \n",
       "4                      No                   No                        No   \n",
       "\n",
       "  Did you seek any specialist for a treatment?  \n",
       "0                                           No  \n",
       "1                                           No  \n",
       "2                                           No  \n",
       "3                                           No  \n",
       "4                                           No  "
      ]
     },
     "execution_count": 3,
     "metadata": {},
     "output_type": "execute_result"
    }
   ],
   "source": [
    "df = pd.read_csv(\"Student_Mental_health.csv\")\n",
    "df.head()"
   ]
  },
  {
   "cell_type": "code",
   "execution_count": 3,
   "id": "88ab5669-029c-4dc7-9f9a-2cb0afc4592e",
   "metadata": {},
   "outputs": [
    {
     "name": "stdout",
     "output_type": "stream",
     "text": [
      "        timestamp  gender   age             course current_year         cgpa  \\\n",
      "0  8/7/2020 12:02  Female  18.0        Engineering       year 1  3.00 - 3.49   \n",
      "1  8/7/2020 12:04    Male  21.0  Islamic education       year 2  3.00 - 3.49   \n",
      "2  8/7/2020 12:05    Male  19.0                BIT       Year 1  3.00 - 3.49   \n",
      "3  8/7/2020 12:06  Female  22.0               Laws       year 3  3.00 - 3.49   \n",
      "4  8/7/2020 12:13    Male  23.0       Mathemathics       year 4  3.00 - 3.49   \n",
      "\n",
      "  marital_status has_depression has_anxiety has_panic_attack sought_specialist  \n",
      "0             No            Yes          No              Yes                No  \n",
      "1             No             No         Yes               No                No  \n",
      "2             No            Yes         Yes              Yes                No  \n",
      "3            Yes            Yes          No               No                No  \n",
      "4             No             No          No               No                No  \n"
     ]
    }
   ],
   "source": [
    "df.columns = [\n",
    "    \"timestamp\", \"gender\", \"age\", \"course\", \"current_year\",\n",
    "    \"cgpa\", \"marital_status\", \"has_depression\", \"has_anxiety\",\n",
    "    \"has_panic_attack\", \"sought_specialist\"\n",
    "]\n",
    "print(df.head())"
   ]
  },
  {
   "cell_type": "markdown",
   "id": "2a22743b-1c52-4e23-a913-313d6e4c838e",
   "metadata": {},
   "source": [
    "Удалить пустые строки:"
   ]
  },
  {
   "cell_type": "code",
   "execution_count": 5,
   "id": "cf853073-059e-4a5c-a21e-0b71cfb4a1aa",
   "metadata": {},
   "outputs": [
    {
     "name": "stdout",
     "output_type": "stream",
     "text": [
      "        Timestamp Choose your gender   Age What is your course?  \\\n",
      "0  8/7/2020 12:02             Female  18.0          Engineering   \n",
      "1  8/7/2020 12:04               Male  21.0    Islamic education   \n",
      "2  8/7/2020 12:05               Male  19.0                  BIT   \n",
      "3  8/7/2020 12:06             Female  22.0                 Laws   \n",
      "4  8/7/2020 12:13               Male  23.0         Mathemathics   \n",
      "\n",
      "  Your current year of Study What is your CGPA? Marital status  \\\n",
      "0                     year 1        3.00 - 3.49             No   \n",
      "1                     year 2        3.00 - 3.49             No   \n",
      "2                     Year 1        3.00 - 3.49             No   \n",
      "3                     year 3        3.00 - 3.49            Yes   \n",
      "4                     year 4        3.00 - 3.49             No   \n",
      "\n",
      "  Do you have Depression? Do you have Anxiety? Do you have Panic attack?  \\\n",
      "0                     Yes                   No                       Yes   \n",
      "1                      No                  Yes                        No   \n",
      "2                     Yes                  Yes                       Yes   \n",
      "3                     Yes                   No                        No   \n",
      "4                      No                   No                        No   \n",
      "\n",
      "  Did you seek any specialist for a treatment?  \n",
      "0                                           No  \n",
      "1                                           No  \n",
      "2                                           No  \n",
      "3                                           No  \n",
      "4                                           No  \n"
     ]
    }
   ],
   "source": [
    "df.dropna(inplace=True)\n",
    "print(df.head())\n"
   ]
  },
  {
   "cell_type": "code",
   "execution_count": 5,
   "id": "6ec647e7-ce84-4ce0-a0de-a0ca3df71ef9",
   "metadata": {},
   "outputs": [
    {
     "name": "stdout",
     "output_type": "stream",
     "text": [
      "   has_depression  has_anxiety  has_panic_attack  sought_specialist\n",
      "0            True        False              True              False\n",
      "1           False         True             False              False\n",
      "2            True         True              True              False\n",
      "3            True        False             False              False\n",
      "4           False        False             False              False\n"
     ]
    }
   ],
   "source": [
    "bool_cols = [\"has_depression\", \"has_anxiety\", \"has_panic_attack\", \"sought_specialist\"]\n",
    "\n",
    "for col in bool_cols:\n",
    "    df[col] = df[col].str.strip().str.lower()           # тазарту\n",
    "    df[col] = df[col].map({\"yes\": True, \"no\": False})   # түрлендіру\n",
    "\n",
    "\n",
    "print(df[bool_cols].head())  # проверим\n"
   ]
  },
  {
   "cell_type": "markdown",
   "id": "c18be817-7544-4e07-936b-79ffad1a9581",
   "metadata": {},
   "source": [
    "Сколько студентов страдают тревожностью:"
   ]
  },
  {
   "cell_type": "code",
   "execution_count": 7,
   "id": "d6240590-f4a6-4fdf-8ed8-656806316978",
   "metadata": {},
   "outputs": [
    {
     "name": "stdout",
     "output_type": "stream",
     "text": [
      "has_anxiety\n",
      "False    66\n",
      "True     34\n",
      "Name: count, dtype: int64\n"
     ]
    }
   ],
   "source": [
    "print(df[\"has_anxiety\"].value_counts())\n"
   ]
  },
  {
   "cell_type": "markdown",
   "id": "c2d93e21-b8ba-42a4-94cb-b97d6d1fd04b",
   "metadata": {},
   "source": [
    "Распределение по полу:"
   ]
  },
  {
   "cell_type": "code",
   "execution_count": 8,
   "id": "7ac3a0d4-c7cf-490d-bb2c-e79c044e876e",
   "metadata": {},
   "outputs": [
    {
     "name": "stdout",
     "output_type": "stream",
     "text": [
      "gender\n",
      "Female    75\n",
      "Male      25\n",
      "Name: count, dtype: int64\n"
     ]
    }
   ],
   "source": [
    "print(df[\"gender\"].value_counts())\n"
   ]
  },
  {
   "cell_type": "markdown",
   "id": "aef651cc-ffb2-4451-b549-2e5c47f13f44",
   "metadata": {},
   "source": [
    "Гистограмма возраста:"
   ]
  },
  {
   "cell_type": "code",
   "execution_count": 9,
   "id": "42d4686b-79a2-4195-b988-b0b9296be800",
   "metadata": {},
   "outputs": [
    {
     "data": {
      "image/png": "[encoded data removed]",
      "text/plain": [
       "<Figure size 640x480 with 1 Axes>"
      ]
     },
     "metadata": {},
     "output_type": "display_data"
    }
   ],
   "source": [
    "df[\"age\"].hist(bins=10)\n",
    "plt.title(\"Age Distribution\")\n",
    "plt.xlabel(\"Age\")\n",
    "plt.ylabel(\"Number of Students\")\n",
    "plt.show()\n"
   ]
  },
  {
   "cell_type": "markdown",
   "id": "bab2f46e-73fb-4e98-b749-edb62243ba13",
   "metadata": {},
   "source": [
    "Заключение:\n"
   ]
  },
  {
   "cell_type": "markdown",
   "id": "4c089266-c573-4174-a402-1995df434cab",
   "metadata": {},
   "source": [
    "В рамках данного проекта была проведена предварительная обработка и анализ данных, связанных с психическим здоровьем студентов. Данные были загружены из открытого источника, очищены от пропусков, приведены к удобному формату, а также выполнены базовые визуализации."
   ]
  }
 ],
 "metadata": {
  "kernelspec": {
   "display_name": "anaconda-panel-2023.05-py310",
   "language": "python",
   "name": "conda-env-anaconda-panel-2023.05-py310-py"
  },
  "language_info": {
   "codemirror_mode": {
    "name": "ipython",
    "version": 3
   },
   "file_extension": ".py",
   "mimetype": "text/x-python",
   "name": "python",
   "nbconvert_exporter": "python",
   "pygments_lexer": "ipython3",
   "version": "3.11.5"
  }
 },
 "nbformat": 4,
 "nbformat_minor": 5
}
